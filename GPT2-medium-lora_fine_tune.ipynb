{
  "cells": [
    {
      "cell_type": "code",
      "execution_count": 8,
      "metadata": {
        "colab": {
          "base_uri": "https://localhost:8080/"
        },
        "id": "4jrYpzKQ1ZsT",
        "outputId": "930fa891-e1cc-4102-b9b9-f2bbc15d35a3"
      },
      "outputs": [
        {
          "output_type": "stream",
          "name": "stdout",
          "text": [
            "Drive already mounted at /content/drive; to attempt to forcibly remount, call drive.mount(\"/content/drive\", force_remount=True).\n"
          ]
        }
      ],
      "source": [
        "#importing libraries and dependencies\n",
        "import numpy as np\n",
        "import pandas as pd\n",
        "import transformers\n",
        "from transformers import AutoTokenizer, AutoModelForCausalLM, Trainer, TrainingArguments, DataCollatorForLanguageModeling\n",
        "from datasets import load_dataset, load_from_disk\n",
        "import torch\n",
        "from google.colab import drive\n",
        "drive.mount('/content/drive')"
      ]
    },
    {
      "cell_type": "code",
      "execution_count": null,
      "metadata": {
        "id": "4d_ZSa0VL8ft"
      },
      "outputs": [],
      "source": [
        "dataset = load_dataset(\"gopalkalpande/bbc-news-summary\")#flytech/python-codes-25k #d0rj/wikisum"
      ]
    },
    {
      "cell_type": "code",
      "execution_count": null,
      "metadata": {
        "id": "41hWSw0FUVgW"
      },
      "outputs": [],
      "source": [
        "from datasets import load_dataset\n",
        "from transformers import AutoTokenizer\n",
        "\n",
        "# Initialize the tokenizer\n",
        "tokenizer = AutoTokenizer.from_pretrained(\"openai-community/gpt2-medium\")\n",
        "tokenizer.pad_token = tokenizer.eos_token  # GPT-2 does not have a pad token by default\n",
        "\n",
        "# Formatting function\n",
        "def format_prompt(example):\n",
        "    article = example['Articles']\n",
        "    summary = example['Summaries']\n",
        "\n",
        "    full_text = article + tokenizer.eos_token + summary\n",
        "    tokenized = tokenizer(\n",
        "        full_text,\n",
        "        truncation=True,\n",
        "        padding=\"max_length\",\n",
        "        max_length=1024,\n",
        "    )\n",
        "    labels = tokenized[\"input_ids\"][:]\n",
        "\n",
        "    # Mask out the article portion from the loss computation\n",
        "    article_ids = tokenizer(article, truncation=True, max_length=1024, add_special_tokens=False)[\"input_ids\"]\n",
        "    article_len = len(article_ids)\n",
        "\n",
        "    if article_len < len(labels):\n",
        "        labels[:article_len] = [-100] * article_len\n",
        "    else:\n",
        "        labels = [-100] * len(labels)\n",
        "\n",
        "    tokenized[\"labels\"] = labels\n",
        "    return tokenized\n",
        "\n",
        "# Apply formatting to the dataset\n",
        "# tokenized_dataset = dataset.map(format_prompt, batched=False)\n"
      ]
    },
    {
      "cell_type": "code",
      "execution_count": 5,
      "metadata": {
        "colab": {
          "base_uri": "https://localhost:8080/",
          "height": 49,
          "referenced_widgets": [
            "740377e8a7ea41738bf1181e560a1d6a",
            "1bec21b123924864ab3796d8a3952833",
            "a1e9c52c981346beb2ee424b80290811",
            "cc9098431c3e43b58f29ae6defd93e2b",
            "3a357dc9e19f4a0b90e22893e5409d41",
            "eceaf2d3e3484b1980d82a987b93cef8",
            "2f476035413c4dfbb11cb6f11fd0690a",
            "9395b5cd87c44cb38107095350dcd52a",
            "3708409f46de4d818ba9228e360eb78b",
            "e93e66d53d024b298c10adb1854b28cf",
            "a9299f6a2ea84672b9bcd744c401418a"
          ]
        },
        "id": "lGHRf1XaU6yB",
        "outputId": "11cf0a14-4156-48ea-a72d-098d4a8c78e8"
      },
      "outputs": [
        {
          "output_type": "display_data",
          "data": {
            "text/plain": [
              "Saving the dataset (0/1 shards):   0%|          | 0/2224 [00:00<?, ? examples/s]"
            ],
            "application/vnd.jupyter.widget-view+json": {
              "version_major": 2,
              "version_minor": 0,
              "model_id": "740377e8a7ea41738bf1181e560a1d6a"
            }
          },
          "metadata": {}
        }
      ],
      "source": [
        "# tokenized_dataset.save_to_disk(\"/content/drive/MyDrive/tokenized_dataset_GPT\")"
      ]
    },
    {
      "cell_type": "code",
      "execution_count": 10,
      "metadata": {
        "id": "1LJ7ExA5V1aQ"
      },
      "outputs": [],
      "source": [
        "#loading tokernizer\n",
        "# from google.colab import drive\n",
        "# drive.mount('/content/drive')\n",
        "tokenized_dataset = load_from_disk(\"/content/drive/MyDrive/tokenized_dataset_GPT\")"
      ]
    },
    {
      "cell_type": "code",
      "execution_count": 11,
      "metadata": {
        "id": "FhXiX-JBXM9n"
      },
      "outputs": [],
      "source": [
        "from sklearn.model_selection import train_test_split\n",
        "split_dataset = tokenized_dataset['train'].train_test_split(test_size=0.1)\n",
        "train_dataset = split_dataset['train']\n",
        "eval_dataset = split_dataset['test']\n"
      ]
    },
    {
      "cell_type": "code",
      "execution_count": 12,
      "metadata": {
        "id": "aY30_bJBC-rx"
      },
      "outputs": [],
      "source": [
        "model_name = \"openai-community/gpt2-medium\" # openai-community/gpt2\n",
        "tokenizer = AutoTokenizer.from_pretrained(model_name)\n",
        "tokenizer.pad_token = tokenizer.eos_token\n",
        "model = AutoModelForCausalLM.from_pretrained(model_name)"
      ]
    },
    {
      "cell_type": "code",
      "execution_count": 26,
      "metadata": {
        "colab": {
          "base_uri": "https://localhost:8080/"
        },
        "id": "iPNB75QiAkW4",
        "outputId": "60ba79ab-d999-40f9-88a8-2d19f2609cfe"
      },
      "outputs": [
        {
          "output_type": "stream",
          "name": "stderr",
          "text": [
            "/usr/local/lib/python3.11/dist-packages/peft/tuners/tuners_utils.py:190: UserWarning: Already found a `peft_config` attribute in the model. This will lead to having multiple adapters in the model. Make sure to know what you are doing!\n",
            "  warnings.warn(\n",
            "/usr/local/lib/python3.11/dist-packages/peft/tuners/lora/layer.py:1803: UserWarning: fan_in_fan_out is set to False but the target module is `Conv1D`. Setting fan_in_fan_out to True.\n",
            "  warnings.warn(\n"
          ]
        }
      ],
      "source": [
        "from peft import LoraConfig, get_peft_model, TaskType\n",
        "from transformers import Trainer, TrainingArguments, DataCollatorForLanguageModeling\n",
        "\n",
        "# Define LoRA configuration\n",
        "lora_config = LoraConfig(\n",
        "    task_type=TaskType.CAUSAL_LM,  # Language modeling task\n",
        "    inference_mode=False,          # Training mode\n",
        "    r=4,                          # Rank of LoRA matrices (tunable)\n",
        "    lora_alpha=32,                # Scaling factor (tunable)\n",
        "    lora_dropout=0.1,             # Dropout rate (tunable)\n",
        ")\n",
        "\n",
        "# Apply LoRA to the model\n",
        "model = get_peft_model(model, lora_config)\n",
        "\n",
        "# Data collator for language modeling, with padding and masking\n",
        "data_collator = DataCollatorForLanguageModeling(\n",
        "    tokenizer=tokenizer,\n",
        "    mlm=False,  # Causal LM doesn't use masked language modeling\n",
        ")"
      ]
    },
    {
      "cell_type": "code",
      "execution_count": 15,
      "metadata": {
        "id": "kj4tjktDsszG"
      },
      "outputs": [],
      "source": [
        "import torch\n",
        "torch.cuda.empty_cache()\n",
        "torch.cuda.reset_peak_memory_stats()"
      ]
    },
    {
      "cell_type": "code",
      "execution_count": null,
      "metadata": {
        "colab": {
          "base_uri": "https://localhost:8080/",
          "height": 944
        },
        "id": "pHZ1RstWc7Ld",
        "outputId": "63e90c4b-67dd-4356-9008-c63d3fc0b73c"
      },
      "outputs": [
        {
          "output_type": "stream",
          "name": "stderr",
          "text": [
            "/tmp/ipython-input-3998270930.py:23: FutureWarning: `tokenizer` is deprecated and will be removed in version 5.0.0 for `Trainer.__init__`. Use `processing_class` instead.\n",
            "  trainer = Trainer(\n",
            "No label_names provided for model class `PeftModelForCausalLM`. Since `PeftModel` hides base models input arguments, if label_names is not given, label_names can't be set automatically within `Trainer`. Note that empty label_names list will be used instead.\n",
            "/usr/local/lib/python3.11/dist-packages/torch/utils/data/dataloader.py:624: UserWarning: This DataLoader will create 4 worker processes in total. Our suggested max number of worker in current system is 2, which is smaller than what this DataLoader is going to create. Please be aware that excessive worker creation might get DataLoader running slow or even freeze, lower the worker number to avoid potential slowness/freeze if necessary.\n",
            "  warnings.warn(\n",
            "/usr/local/lib/python3.11/dist-packages/torch/utils/data/dataloader.py:624: UserWarning: This DataLoader will create 4 worker processes in total. Our suggested max number of worker in current system is 2, which is smaller than what this DataLoader is going to create. Please be aware that excessive worker creation might get DataLoader running slow or even freeze, lower the worker number to avoid potential slowness/freeze if necessary.\n",
            "  warnings.warn(\n"
          ]
        },
        {
          "output_type": "display_data",
          "data": {
            "text/plain": [
              "<IPython.core.display.HTML object>"
            ],
            "text/html": [
              "\n",
              "    <div>\n",
              "      \n",
              "      <progress value='7271' max='7515' style='width:300px; height:20px; vertical-align: middle;'></progress>\n",
              "      [7271/7515 1:36:43 < 04:05, 0.99 it/s, Epoch 14.51/15]\n",
              "    </div>\n",
              "    <table border=\"1\" class=\"dataframe\">\n",
              "  <thead>\n",
              " <tr style=\"text-align: left;\">\n",
              "      <th>Step</th>\n",
              "      <th>Training Loss</th>\n",
              "      <th>Validation Loss</th>\n",
              "    </tr>\n",
              "  </thead>\n",
              "  <tbody>\n",
              "    <tr>\n",
              "      <td>2000</td>\n",
              "      <td>2.134800</td>\n",
              "      <td>2.101029</td>\n",
              "    </tr>\n",
              "    <tr>\n",
              "      <td>2500</td>\n",
              "      <td>2.114500</td>\n",
              "      <td>2.085284</td>\n",
              "    </tr>\n",
              "    <tr>\n",
              "      <td>3000</td>\n",
              "      <td>2.094800</td>\n",
              "      <td>2.077193</td>\n",
              "    </tr>\n",
              "    <tr>\n",
              "      <td>3500</td>\n",
              "      <td>2.086600</td>\n",
              "      <td>2.073750</td>\n",
              "    </tr>\n",
              "    <tr>\n",
              "      <td>4000</td>\n",
              "      <td>2.083200</td>\n",
              "      <td>2.070137</td>\n",
              "    </tr>\n",
              "    <tr>\n",
              "      <td>4500</td>\n",
              "      <td>2.092900</td>\n",
              "      <td>2.067148</td>\n",
              "    </tr>\n",
              "    <tr>\n",
              "      <td>5000</td>\n",
              "      <td>2.093200</td>\n",
              "      <td>2.065789</td>\n",
              "    </tr>\n",
              "    <tr>\n",
              "      <td>5500</td>\n",
              "      <td>2.045900</td>\n",
              "      <td>2.064115</td>\n",
              "    </tr>\n",
              "    <tr>\n",
              "      <td>6000</td>\n",
              "      <td>2.073700</td>\n",
              "      <td>2.063767</td>\n",
              "    </tr>\n",
              "    <tr>\n",
              "      <td>6500</td>\n",
              "      <td>2.091700</td>\n",
              "      <td>2.062529</td>\n",
              "    </tr>\n",
              "    <tr>\n",
              "      <td>7000</td>\n",
              "      <td>2.030100</td>\n",
              "      <td>2.062574</td>\n",
              "    </tr>\n",
              "  </tbody>\n",
              "</table><p>"
            ]
          },
          "metadata": {}
        },
        {
          "output_type": "stream",
          "name": "stderr",
          "text": [
            "/usr/local/lib/python3.11/dist-packages/torch/utils/data/dataloader.py:624: UserWarning: This DataLoader will create 4 worker processes in total. Our suggested max number of worker in current system is 2, which is smaller than what this DataLoader is going to create. Please be aware that excessive worker creation might get DataLoader running slow or even freeze, lower the worker number to avoid potential slowness/freeze if necessary.\n",
            "  warnings.warn(\n",
            "/usr/local/lib/python3.11/dist-packages/torch/utils/data/dataloader.py:624: UserWarning: This DataLoader will create 4 worker processes in total. Our suggested max number of worker in current system is 2, which is smaller than what this DataLoader is going to create. Please be aware that excessive worker creation might get DataLoader running slow or even freeze, lower the worker number to avoid potential slowness/freeze if necessary.\n",
            "  warnings.warn(\n",
            "/usr/local/lib/python3.11/dist-packages/torch/utils/data/dataloader.py:624: UserWarning: This DataLoader will create 4 worker processes in total. Our suggested max number of worker in current system is 2, which is smaller than what this DataLoader is going to create. Please be aware that excessive worker creation might get DataLoader running slow or even freeze, lower the worker number to avoid potential slowness/freeze if necessary.\n",
            "  warnings.warn(\n",
            "/usr/local/lib/python3.11/dist-packages/torch/utils/data/dataloader.py:624: UserWarning: This DataLoader will create 4 worker processes in total. Our suggested max number of worker in current system is 2, which is smaller than what this DataLoader is going to create. Please be aware that excessive worker creation might get DataLoader running slow or even freeze, lower the worker number to avoid potential slowness/freeze if necessary.\n",
            "  warnings.warn(\n",
            "/usr/local/lib/python3.11/dist-packages/torch/utils/data/dataloader.py:624: UserWarning: This DataLoader will create 4 worker processes in total. Our suggested max number of worker in current system is 2, which is smaller than what this DataLoader is going to create. Please be aware that excessive worker creation might get DataLoader running slow or even freeze, lower the worker number to avoid potential slowness/freeze if necessary.\n",
            "  warnings.warn(\n",
            "/usr/local/lib/python3.11/dist-packages/torch/utils/data/dataloader.py:624: UserWarning: This DataLoader will create 4 worker processes in total. Our suggested max number of worker in current system is 2, which is smaller than what this DataLoader is going to create. Please be aware that excessive worker creation might get DataLoader running slow or even freeze, lower the worker number to avoid potential slowness/freeze if necessary.\n",
            "  warnings.warn(\n",
            "/usr/local/lib/python3.11/dist-packages/torch/utils/data/dataloader.py:624: UserWarning: This DataLoader will create 4 worker processes in total. Our suggested max number of worker in current system is 2, which is smaller than what this DataLoader is going to create. Please be aware that excessive worker creation might get DataLoader running slow or even freeze, lower the worker number to avoid potential slowness/freeze if necessary.\n",
            "  warnings.warn(\n",
            "/usr/local/lib/python3.11/dist-packages/torch/utils/data/dataloader.py:624: UserWarning: This DataLoader will create 4 worker processes in total. Our suggested max number of worker in current system is 2, which is smaller than what this DataLoader is going to create. Please be aware that excessive worker creation might get DataLoader running slow or even freeze, lower the worker number to avoid potential slowness/freeze if necessary.\n",
            "  warnings.warn(\n",
            "/usr/local/lib/python3.11/dist-packages/torch/utils/data/dataloader.py:624: UserWarning: This DataLoader will create 4 worker processes in total. Our suggested max number of worker in current system is 2, which is smaller than what this DataLoader is going to create. Please be aware that excessive worker creation might get DataLoader running slow or even freeze, lower the worker number to avoid potential slowness/freeze if necessary.\n",
            "  warnings.warn(\n",
            "/usr/local/lib/python3.11/dist-packages/torch/utils/data/dataloader.py:624: UserWarning: This DataLoader will create 4 worker processes in total. Our suggested max number of worker in current system is 2, which is smaller than what this DataLoader is going to create. Please be aware that excessive worker creation might get DataLoader running slow or even freeze, lower the worker number to avoid potential slowness/freeze if necessary.\n",
            "  warnings.warn(\n",
            "/usr/local/lib/python3.11/dist-packages/torch/utils/data/dataloader.py:624: UserWarning: This DataLoader will create 4 worker processes in total. Our suggested max number of worker in current system is 2, which is smaller than what this DataLoader is going to create. Please be aware that excessive worker creation might get DataLoader running slow or even freeze, lower the worker number to avoid potential slowness/freeze if necessary.\n",
            "  warnings.warn(\n"
          ]
        }
      ],
      "source": [
        "training_args = TrainingArguments(\n",
        "    output_dir = \"/content/drive/MyDrive/lora_gpt2_medium\",\n",
        "    overwrite_output_dir=True,\n",
        "    eval_strategy=\"steps\",\n",
        "    eval_steps=1000,\n",
        "    logging_steps=100,\n",
        "    save_steps=1000,\n",
        "    save_total_limit=3,\n",
        "    gradient_accumulation_steps=1,\n",
        "    learning_rate=3e-4,\n",
        "    per_device_train_batch_size=16,\n",
        "    per_device_eval_batch_size=16,\n",
        "    dataloader_num_workers=4,\n",
        "    num_train_epochs=15,\n",
        "    weight_decay=0.01,\n",
        "    warmup_steps=500,\n",
        "    fp16=True,  # Use mixed precision if supported\n",
        "    load_best_model_at_end=True,\n",
        "    report_to=\"none\",\n",
        ")\n",
        "\n",
        "# Initialize Trainer\n",
        "trainer = Trainer(\n",
        "    model=model,\n",
        "    args=training_args,\n",
        "    train_dataset=train_dataset,\n",
        "    eval_dataset=eval_dataset,\n",
        "    data_collator=data_collator,\n",
        "    tokenizer=tokenizer,\n",
        ")\n",
        "\n",
        "# Start training\n",
        "trainer.train(resume_from_checkpoint=latest_checkpoint)"
      ]
    },
    {
      "cell_type": "code",
      "execution_count": null,
      "metadata": {
        "id": "dvytytkjelKF"
      },
      "outputs": [],
      "source": [
        "metrics = trainer.evaluate()\n",
        "print(metrics)"
      ]
    },
    {
      "cell_type": "code",
      "execution_count": 27,
      "metadata": {
        "id": "T7uZDbylGpT9"
      },
      "outputs": [],
      "source": [
        "import os\n",
        "\n",
        "def get_latest_checkpoint(path):\n",
        "    if not os.path.exists(path):\n",
        "        return None\n",
        "    checkpoints = [os.path.join(path, d) for d in os.listdir(path) if d.startswith(\"checkpoint\")]\n",
        "    if not checkpoints:\n",
        "        return None\n",
        "    return max(checkpoints, key=os.path.getmtime)\n",
        "\n",
        "latest_checkpoint = get_latest_checkpoint(\"/content/drive/MyDrive/lora_gpt2_medium\")\n"
      ]
    },
    {
      "cell_type": "code",
      "execution_count": null,
      "metadata": {
        "id": "z9MQ-c1QO9tC"
      },
      "outputs": [],
      "source": [
        "##saving the model\n",
        "save_path = \"/content/drive/MyDrive/GPT-Summarize\"\n",
        "# Save model and tokenizer\n",
        "\n",
        "trainer.save_model(save_path)\n",
        "tokenizer.save_pretrained(save_path)"
      ]
    },
    {
      "cell_type": "code",
      "execution_count": null,
      "metadata": {
        "id": "MWQYCRKa1zlA"
      },
      "outputs": [],
      "source": [
        "# Merge LoRA weights into base model\n",
        "save_path = \"/content/drive/MyDrive/GPT-Summarize\"\n",
        "model = model.merge_and_unload()\n",
        "\n",
        "# Save the full merged model\n",
        "model.save_pretrained(save_path)\n",
        "tokenizer.save_pretrained(save_path)\n"
      ]
    },
    {
      "cell_type": "code",
      "execution_count": 29,
      "metadata": {
        "colab": {
          "base_uri": "https://localhost:8080/"
        },
        "id": "tygUx06fTnoB",
        "outputId": "52a4b313-74ea-4151-f036-2394ac86006c"
      },
      "outputs": [
        {
          "output_type": "stream",
          "name": "stderr",
          "text": [
            "/usr/local/lib/python3.11/dist-packages/peft/tuners/lora/layer.py:1803: UserWarning: fan_in_fan_out is set to False but the target module is `Conv1D`. Setting fan_in_fan_out to True.\n",
            "  warnings.warn(\n",
            "/usr/local/lib/python3.11/dist-packages/peft/tuners/tuners_utils.py:190: UserWarning: Already found a `peft_config` attribute in the model. This will lead to having multiple adapters in the model. Make sure to know what you are doing!\n",
            "  warnings.warn(\n",
            "/usr/local/lib/python3.11/dist-packages/peft/peft_model.py:585: UserWarning: Found missing adapter keys while loading the checkpoint: ['base_model.model.base_model.model.transformer.h.0.attn.c_attn.lora_A.default.weight', 'base_model.model.base_model.model.transformer.h.0.attn.c_attn.lora_B.default.weight', 'base_model.model.base_model.model.transformer.h.1.attn.c_attn.lora_A.default.weight', 'base_model.model.base_model.model.transformer.h.1.attn.c_attn.lora_B.default.weight', 'base_model.model.base_model.model.transformer.h.2.attn.c_attn.lora_A.default.weight', 'base_model.model.base_model.model.transformer.h.2.attn.c_attn.lora_B.default.weight', 'base_model.model.base_model.model.transformer.h.3.attn.c_attn.lora_A.default.weight', 'base_model.model.base_model.model.transformer.h.3.attn.c_attn.lora_B.default.weight', 'base_model.model.base_model.model.transformer.h.4.attn.c_attn.lora_A.default.weight', 'base_model.model.base_model.model.transformer.h.4.attn.c_attn.lora_B.default.weight', 'base_model.model.base_model.model.transformer.h.5.attn.c_attn.lora_A.default.weight', 'base_model.model.base_model.model.transformer.h.5.attn.c_attn.lora_B.default.weight', 'base_model.model.base_model.model.transformer.h.6.attn.c_attn.lora_A.default.weight', 'base_model.model.base_model.model.transformer.h.6.attn.c_attn.lora_B.default.weight', 'base_model.model.base_model.model.transformer.h.7.attn.c_attn.lora_A.default.weight', 'base_model.model.base_model.model.transformer.h.7.attn.c_attn.lora_B.default.weight', 'base_model.model.base_model.model.transformer.h.8.attn.c_attn.lora_A.default.weight', 'base_model.model.base_model.model.transformer.h.8.attn.c_attn.lora_B.default.weight', 'base_model.model.base_model.model.transformer.h.9.attn.c_attn.lora_A.default.weight', 'base_model.model.base_model.model.transformer.h.9.attn.c_attn.lora_B.default.weight', 'base_model.model.base_model.model.transformer.h.10.attn.c_attn.lora_A.default.weight', 'base_model.model.base_model.model.transformer.h.10.attn.c_attn.lora_B.default.weight', 'base_model.model.base_model.model.transformer.h.11.attn.c_attn.lora_A.default.weight', 'base_model.model.base_model.model.transformer.h.11.attn.c_attn.lora_B.default.weight', 'base_model.model.base_model.model.transformer.h.12.attn.c_attn.lora_A.default.weight', 'base_model.model.base_model.model.transformer.h.12.attn.c_attn.lora_B.default.weight', 'base_model.model.base_model.model.transformer.h.13.attn.c_attn.lora_A.default.weight', 'base_model.model.base_model.model.transformer.h.13.attn.c_attn.lora_B.default.weight', 'base_model.model.base_model.model.transformer.h.14.attn.c_attn.lora_A.default.weight', 'base_model.model.base_model.model.transformer.h.14.attn.c_attn.lora_B.default.weight', 'base_model.model.base_model.model.transformer.h.15.attn.c_attn.lora_A.default.weight', 'base_model.model.base_model.model.transformer.h.15.attn.c_attn.lora_B.default.weight', 'base_model.model.base_model.model.transformer.h.16.attn.c_attn.lora_A.default.weight', 'base_model.model.base_model.model.transformer.h.16.attn.c_attn.lora_B.default.weight', 'base_model.model.base_model.model.transformer.h.17.attn.c_attn.lora_A.default.weight', 'base_model.model.base_model.model.transformer.h.17.attn.c_attn.lora_B.default.weight', 'base_model.model.base_model.model.transformer.h.18.attn.c_attn.lora_A.default.weight', 'base_model.model.base_model.model.transformer.h.18.attn.c_attn.lora_B.default.weight', 'base_model.model.base_model.model.transformer.h.19.attn.c_attn.lora_A.default.weight', 'base_model.model.base_model.model.transformer.h.19.attn.c_attn.lora_B.default.weight', 'base_model.model.base_model.model.transformer.h.20.attn.c_attn.lora_A.default.weight', 'base_model.model.base_model.model.transformer.h.20.attn.c_attn.lora_B.default.weight', 'base_model.model.base_model.model.transformer.h.21.attn.c_attn.lora_A.default.weight', 'base_model.model.base_model.model.transformer.h.21.attn.c_attn.lora_B.default.weight', 'base_model.model.base_model.model.transformer.h.22.attn.c_attn.lora_A.default.weight', 'base_model.model.base_model.model.transformer.h.22.attn.c_attn.lora_B.default.weight', 'base_model.model.base_model.model.transformer.h.23.attn.c_attn.lora_A.default.weight', 'base_model.model.base_model.model.transformer.h.23.attn.c_attn.lora_B.default.weight'].\n",
            "  warnings.warn(warn_message)\n"
          ]
        }
      ],
      "source": [
        "from transformers import AutoTokenizer, AutoModelForCausalLM, Trainer, TrainingArguments\n",
        "from peft import LoraConfig, get_peft_model, TaskType, PeftModel\n",
        "from transformers import DataCollatorForLanguageModeling\n",
        "\n",
        "checkpoint_path = \"/content/drive/MyDrive/lora_gpt2_medium/checkpoint-7000\"\n",
        "model_name = \"openai-community/gpt2-medium\"\n",
        "\n",
        "# Load tokenizer\n",
        "tokenizer = AutoTokenizer.from_pretrained(model_name)\n",
        "tokenizer.pad_token = tokenizer.eos_token\n",
        "\n",
        "# Load base model\n",
        "base_model = AutoModelForCausalLM.from_pretrained(model_name)\n",
        "\n",
        "# Reapply LoRA\n",
        "lora_config = LoraConfig(\n",
        "    task_type=TaskType.CAUSAL_LM,\n",
        "    inference_mode=False,\n",
        "    r=4,\n",
        "    lora_alpha=32,\n",
        "    lora_dropout=0.1,\n",
        ")\n",
        "model = get_peft_model(base_model, lora_config)\n",
        "\n",
        "# Load checkpoint weights into LoRA model\n",
        "model = PeftModel.from_pretrained(model, checkpoint_path)\n",
        "\n",
        "# Save for future use\n",
        "save_path = \"/content/drive/MyDrive/GPT-Summarize\"\n",
        "# model.save_pretrained(save_path)\n",
        "# tokenizer.save_pretrained(save_path)\n"
      ]
    },
    {
      "cell_type": "code",
      "source": [
        "merged_model = model.merge_and_unload()\n",
        "merged_model.save_pretrained(\"GPT-medium-Summarize\")\n",
        "tokenizer.save_pretrained(\"GPT-medium-Summarize\")\n"
      ],
      "metadata": {
        "colab": {
          "base_uri": "https://localhost:8080/"
        },
        "id": "wcVOiCqg9DpK",
        "outputId": "bf297490-23c7-4131-edcb-57016d54a70b"
      },
      "execution_count": 32,
      "outputs": [
        {
          "output_type": "execute_result",
          "data": {
            "text/plain": [
              "('GPT-medium-Summarize/tokenizer_config.json',\n",
              " 'GPT-medium-Summarize/special_tokens_map.json',\n",
              " 'GPT-medium-Summarize/vocab.json',\n",
              " 'GPT-medium-Summarize/merges.txt',\n",
              " 'GPT-medium-Summarize/added_tokens.json',\n",
              " 'GPT-medium-Summarize/tokenizer.json')"
            ]
          },
          "metadata": {},
          "execution_count": 32
        }
      ]
    },
    {
      "cell_type": "code",
      "source": [
        "merged_model.save_pretrained(\"GPT-medium-Summarize\")"
      ],
      "metadata": {
        "id": "XofIYEIhKztQ"
      },
      "execution_count": 64,
      "outputs": []
    },
    {
      "cell_type": "code",
      "source": [
        "tokenizer = AutoTokenizer.from_pretrained('GPT-medium-Summarize')\n",
        "model = AutoModelForCausalLM.from_pretrained('GPT-medium-Summarize')\n",
        "model.eval()"
      ],
      "metadata": {
        "colab": {
          "base_uri": "https://localhost:8080/"
        },
        "id": "X--EdM2p9MQp",
        "outputId": "f2bbc5a8-4368-4867-be7f-d793068e51ec"
      },
      "execution_count": 34,
      "outputs": [
        {
          "output_type": "stream",
          "name": "stderr",
          "text": [
            "Loading adapter weights from GPT-medium-Summarize led to missing keys in the model: transformer.h.0.attn.c_attn.lora_A.default.weight, transformer.h.0.attn.c_attn.lora_B.default.weight, transformer.h.1.attn.c_attn.lora_A.default.weight, transformer.h.1.attn.c_attn.lora_B.default.weight, transformer.h.2.attn.c_attn.lora_A.default.weight, transformer.h.2.attn.c_attn.lora_B.default.weight, transformer.h.3.attn.c_attn.lora_A.default.weight, transformer.h.3.attn.c_attn.lora_B.default.weight, transformer.h.4.attn.c_attn.lora_A.default.weight, transformer.h.4.attn.c_attn.lora_B.default.weight, transformer.h.5.attn.c_attn.lora_A.default.weight, transformer.h.5.attn.c_attn.lora_B.default.weight, transformer.h.6.attn.c_attn.lora_A.default.weight, transformer.h.6.attn.c_attn.lora_B.default.weight, transformer.h.7.attn.c_attn.lora_A.default.weight, transformer.h.7.attn.c_attn.lora_B.default.weight, transformer.h.8.attn.c_attn.lora_A.default.weight, transformer.h.8.attn.c_attn.lora_B.default.weight, transformer.h.9.attn.c_attn.lora_A.default.weight, transformer.h.9.attn.c_attn.lora_B.default.weight, transformer.h.10.attn.c_attn.lora_A.default.weight, transformer.h.10.attn.c_attn.lora_B.default.weight, transformer.h.11.attn.c_attn.lora_A.default.weight, transformer.h.11.attn.c_attn.lora_B.default.weight, transformer.h.12.attn.c_attn.lora_A.default.weight, transformer.h.12.attn.c_attn.lora_B.default.weight, transformer.h.13.attn.c_attn.lora_A.default.weight, transformer.h.13.attn.c_attn.lora_B.default.weight, transformer.h.14.attn.c_attn.lora_A.default.weight, transformer.h.14.attn.c_attn.lora_B.default.weight, transformer.h.15.attn.c_attn.lora_A.default.weight, transformer.h.15.attn.c_attn.lora_B.default.weight, transformer.h.16.attn.c_attn.lora_A.default.weight, transformer.h.16.attn.c_attn.lora_B.default.weight, transformer.h.17.attn.c_attn.lora_A.default.weight, transformer.h.17.attn.c_attn.lora_B.default.weight, transformer.h.18.attn.c_attn.lora_A.default.weight, transformer.h.18.attn.c_attn.lora_B.default.weight, transformer.h.19.attn.c_attn.lora_A.default.weight, transformer.h.19.attn.c_attn.lora_B.default.weight, transformer.h.20.attn.c_attn.lora_A.default.weight, transformer.h.20.attn.c_attn.lora_B.default.weight, transformer.h.21.attn.c_attn.lora_A.default.weight, transformer.h.21.attn.c_attn.lora_B.default.weight, transformer.h.22.attn.c_attn.lora_A.default.weight, transformer.h.22.attn.c_attn.lora_B.default.weight, transformer.h.23.attn.c_attn.lora_A.default.weight, transformer.h.23.attn.c_attn.lora_B.default.weight\n"
          ]
        },
        {
          "output_type": "execute_result",
          "data": {
            "text/plain": [
              "GPT2LMHeadModel(\n",
              "  (transformer): GPT2Model(\n",
              "    (wte): Embedding(50257, 1024)\n",
              "    (wpe): Embedding(1024, 1024)\n",
              "    (drop): Dropout(p=0.1, inplace=False)\n",
              "    (h): ModuleList(\n",
              "      (0-23): 24 x GPT2Block(\n",
              "        (ln_1): LayerNorm((1024,), eps=1e-05, elementwise_affine=True)\n",
              "        (attn): GPT2Attention(\n",
              "          (c_attn): lora.Linear(\n",
              "            (base_layer): Conv1D(nf=3072, nx=1024)\n",
              "            (lora_dropout): ModuleDict(\n",
              "              (default): Dropout(p=0.1, inplace=False)\n",
              "            )\n",
              "            (lora_A): ModuleDict(\n",
              "              (default): Linear(in_features=1024, out_features=4, bias=False)\n",
              "            )\n",
              "            (lora_B): ModuleDict(\n",
              "              (default): Linear(in_features=4, out_features=3072, bias=False)\n",
              "            )\n",
              "            (lora_embedding_A): ParameterDict()\n",
              "            (lora_embedding_B): ParameterDict()\n",
              "            (lora_magnitude_vector): ModuleDict()\n",
              "          )\n",
              "          (c_proj): Conv1D(nf=1024, nx=1024)\n",
              "          (attn_dropout): Dropout(p=0.1, inplace=False)\n",
              "          (resid_dropout): Dropout(p=0.1, inplace=False)\n",
              "        )\n",
              "        (ln_2): LayerNorm((1024,), eps=1e-05, elementwise_affine=True)\n",
              "        (mlp): GPT2MLP(\n",
              "          (c_fc): Conv1D(nf=4096, nx=1024)\n",
              "          (c_proj): Conv1D(nf=1024, nx=4096)\n",
              "          (act): NewGELUActivation()\n",
              "          (dropout): Dropout(p=0.1, inplace=False)\n",
              "        )\n",
              "      )\n",
              "    )\n",
              "    (ln_f): LayerNorm((1024,), eps=1e-05, elementwise_affine=True)\n",
              "  )\n",
              "  (lm_head): Linear(in_features=1024, out_features=50257, bias=False)\n",
              ")"
            ]
          },
          "metadata": {},
          "execution_count": 34
        }
      ]
    },
    {
      "cell_type": "code",
      "execution_count": 67,
      "metadata": {
        "id": "pwlni3jH1zTu",
        "colab": {
          "base_uri": "https://localhost:8080/"
        },
        "outputId": "01085773-c464-408c-b715-db9e06f50fa8"
      },
      "outputs": [
        {
          "output_type": "stream",
          "name": "stderr",
          "text": [
            "Setting `pad_token_id` to `eos_token_id`:50256 for open-end generation.\n"
          ]
        },
        {
          "output_type": "stream",
          "name": "stdout",
          "text": [
            "Summary: The global technology sector is currently grappling with unprecedented supply chain challenges as geopolitical tensions between key manufacturing\n"
          ]
        }
      ],
      "source": [
        "\n",
        "\n",
        "# Input text to summarize\n",
        "input_text = \"Global Technology Sector Faces Widespread Supply Chain Disruptions Amid Rising Geopolitical Tensions The global technology industry is currently grappling with unprecedented supply chain challenges as geopolitical tensions between key manufacturing regions continue to escalate. Major producers of semiconductors, electronics components, and raw materials have experienced significant delays and shortages, affecting production schedules across a broad range of tech companies. Industry leaders attribute these disruptions to a combination of factors, including trade restrictions, increased tariffs, and strained diplomatic relations between several countries critical to the manufacturing ecosystem. The semiconductor shortage, which began during the COVID-19 pandemic, has been exacerbated by these political developments, leading to prolonged wait times and higher costs for essential components. In response, many technology firms are accelerating efforts to diversify their supply chains. This includes sourcing materials from alternative countries, investing in new manufacturing plants domestically, and building strategic reserves of key components. Governments are also stepping in, offering incentives and subsidies aimed at boosting local production capabilities to reduce dependency on foreign suppliers. Analysts warn that unless these issues are addressed, the industry may face slowed innovation cycles and increased prices for consumers. The impact is expected to extend beyond consumer electronics, affecting automotive manufacturing, telecommunications infrastructure, and renewable energy technologies. Despite these challenges, some companies see an opportunity to strengthen resilience and foster innovation by rethinking traditional supply chain models. Industry experts suggest that digitalization, automation, and closer collaboration between stakeholders will be critical in navigating the evolving landscape.\"\n",
        "\n",
        "# Tokenize\n",
        "inputs = tokenizer(input_text, return_tensors=\"pt\")\n",
        "\n",
        "# Generate summary tokens\n",
        "outputs = model.generate(\n",
        "    **inputs\n",
        "    # max_new_tokens=300,\n",
        "    # min_length=50,\n",
        "    # # length_penalty=0.01,\n",
        "    # # num_beams=5,\n",
        "    # early_stopping=True\n",
        "    )\n",
        "\n",
        "# Decode generated tokens (skip prompt tokens)\n",
        "summary = tokenizer.decode(outputs[0][inputs['input_ids'].shape[1]:], skip_special_tokens=True)\n",
        "\n",
        "print(\"Summary:\", summary.strip())"
      ]
    },
    {
      "cell_type": "code",
      "source": [
        "from peft import PeftModel\n",
        "from transformers import AutoModelForCausalLM\n",
        "\n",
        "base_model = AutoModelForCausalLM.from_pretrained(\"openai-community/gpt2-medium\")\n",
        "model = PeftModel.from_pretrained(base_model, \"deDgod/gpt2-medium-lora-news-summary\")"
      ],
      "metadata": {
        "colab": {
          "base_uri": "https://localhost:8080/",
          "height": 170,
          "referenced_widgets": [
            "0fa42dd1cba64bf18111e78092332755",
            "a61b09ac81a045b6b87ddb582be90dc4",
            "d57272f0976146edbc30e194aab99e1a",
            "aad69e42feca4c84b301ba45e5fe33c3",
            "90510a726dfb46d39e6f0e5d7d59a469",
            "e1bc0dae7e8a40efb1088fdbc0828748",
            "fa43be41edf64610b06b9e6c119597b1",
            "8fa11c0536ff41cd8a10c57fed0f8904",
            "9742ba4cf2224228a8ac1a0033843e7d",
            "1dae29ddca71413a8dc7ba05dc278881",
            "a12b06254301433c907460dac54d1ba3",
            "6c6f0060d07441fa9f3d034d2678d671",
            "e4e705b3a1f54dfeb7c4dc766596f351",
            "7c7ec79abaff4b19b762313ba6bf749c",
            "b1b94c722b204aa39f8c0949b8a1f075",
            "04108701f0db47128e6c5f09f300db1e",
            "5da895db92fb4de6a98fc150a1752810",
            "135180517b8440e9a421ef5f49ba1570",
            "8211cfe5ca544643ad28b29431959a7c",
            "3aa46ac307eb48d18c7757a25e0fbd1e",
            "6403c0c08c4d4eb2b8a8471b914a9212",
            "1374e57c50b441b98c7c7592e10db503"
          ]
        },
        "id": "ERAFqiL6JZ3f",
        "outputId": "69ae5cf5-a67c-4ef1-e80d-1bbf20380fc7"
      },
      "execution_count": 66,
      "outputs": [
        {
          "output_type": "display_data",
          "data": {
            "text/plain": [
              "adapter_config.json:   0%|          | 0.00/818 [00:00<?, ?B/s]"
            ],
            "application/vnd.jupyter.widget-view+json": {
              "version_major": 2,
              "version_minor": 0,
              "model_id": "0fa42dd1cba64bf18111e78092332755"
            }
          },
          "metadata": {}
        },
        {
          "output_type": "stream",
          "name": "stderr",
          "text": [
            "/usr/local/lib/python3.11/dist-packages/peft/tuners/lora/layer.py:1803: UserWarning: fan_in_fan_out is set to False but the target module is `Conv1D`. Setting fan_in_fan_out to True.\n",
            "  warnings.warn(\n"
          ]
        },
        {
          "output_type": "display_data",
          "data": {
            "text/plain": [
              "adapter_model.safetensors:   0%|          | 0.00/1.58M [00:00<?, ?B/s]"
            ],
            "application/vnd.jupyter.widget-view+json": {
              "version_major": 2,
              "version_minor": 0,
              "model_id": "6c6f0060d07441fa9f3d034d2678d671"
            }
          },
          "metadata": {}
        },
        {
          "output_type": "stream",
          "name": "stderr",
          "text": [
            "/usr/local/lib/python3.11/dist-packages/peft/peft_model.py:585: UserWarning: Found missing adapter keys while loading the checkpoint: ['base_model.model.transformer.h.0.attn.c_attn.lora_A.default.weight', 'base_model.model.transformer.h.0.attn.c_attn.lora_B.default.weight', 'base_model.model.transformer.h.1.attn.c_attn.lora_A.default.weight', 'base_model.model.transformer.h.1.attn.c_attn.lora_B.default.weight', 'base_model.model.transformer.h.2.attn.c_attn.lora_A.default.weight', 'base_model.model.transformer.h.2.attn.c_attn.lora_B.default.weight', 'base_model.model.transformer.h.3.attn.c_attn.lora_A.default.weight', 'base_model.model.transformer.h.3.attn.c_attn.lora_B.default.weight', 'base_model.model.transformer.h.4.attn.c_attn.lora_A.default.weight', 'base_model.model.transformer.h.4.attn.c_attn.lora_B.default.weight', 'base_model.model.transformer.h.5.attn.c_attn.lora_A.default.weight', 'base_model.model.transformer.h.5.attn.c_attn.lora_B.default.weight', 'base_model.model.transformer.h.6.attn.c_attn.lora_A.default.weight', 'base_model.model.transformer.h.6.attn.c_attn.lora_B.default.weight', 'base_model.model.transformer.h.7.attn.c_attn.lora_A.default.weight', 'base_model.model.transformer.h.7.attn.c_attn.lora_B.default.weight', 'base_model.model.transformer.h.8.attn.c_attn.lora_A.default.weight', 'base_model.model.transformer.h.8.attn.c_attn.lora_B.default.weight', 'base_model.model.transformer.h.9.attn.c_attn.lora_A.default.weight', 'base_model.model.transformer.h.9.attn.c_attn.lora_B.default.weight', 'base_model.model.transformer.h.10.attn.c_attn.lora_A.default.weight', 'base_model.model.transformer.h.10.attn.c_attn.lora_B.default.weight', 'base_model.model.transformer.h.11.attn.c_attn.lora_A.default.weight', 'base_model.model.transformer.h.11.attn.c_attn.lora_B.default.weight', 'base_model.model.transformer.h.12.attn.c_attn.lora_A.default.weight', 'base_model.model.transformer.h.12.attn.c_attn.lora_B.default.weight', 'base_model.model.transformer.h.13.attn.c_attn.lora_A.default.weight', 'base_model.model.transformer.h.13.attn.c_attn.lora_B.default.weight', 'base_model.model.transformer.h.14.attn.c_attn.lora_A.default.weight', 'base_model.model.transformer.h.14.attn.c_attn.lora_B.default.weight', 'base_model.model.transformer.h.15.attn.c_attn.lora_A.default.weight', 'base_model.model.transformer.h.15.attn.c_attn.lora_B.default.weight', 'base_model.model.transformer.h.16.attn.c_attn.lora_A.default.weight', 'base_model.model.transformer.h.16.attn.c_attn.lora_B.default.weight', 'base_model.model.transformer.h.17.attn.c_attn.lora_A.default.weight', 'base_model.model.transformer.h.17.attn.c_attn.lora_B.default.weight', 'base_model.model.transformer.h.18.attn.c_attn.lora_A.default.weight', 'base_model.model.transformer.h.18.attn.c_attn.lora_B.default.weight', 'base_model.model.transformer.h.19.attn.c_attn.lora_A.default.weight', 'base_model.model.transformer.h.19.attn.c_attn.lora_B.default.weight', 'base_model.model.transformer.h.20.attn.c_attn.lora_A.default.weight', 'base_model.model.transformer.h.20.attn.c_attn.lora_B.default.weight', 'base_model.model.transformer.h.21.attn.c_attn.lora_A.default.weight', 'base_model.model.transformer.h.21.attn.c_attn.lora_B.default.weight', 'base_model.model.transformer.h.22.attn.c_attn.lora_A.default.weight', 'base_model.model.transformer.h.22.attn.c_attn.lora_B.default.weight', 'base_model.model.transformer.h.23.attn.c_attn.lora_A.default.weight', 'base_model.model.transformer.h.23.attn.c_attn.lora_B.default.weight'].\n",
            "  warnings.warn(warn_message)\n"
          ]
        }
      ]
    }
  ],
  "metadata": {
    "colab": {
      "provenance": []
    },
    "kernelspec": {
      "display_name": "Python 3",
      "name": "python3"
    },
    "language_info": {
      "name": "python"
    },
    "widgets": {
      "application/vnd.jupyter.widget-state+json": {
        "740377e8a7ea41738bf1181e560a1d6a": {
          "model_module": "@jupyter-widgets/controls",
          "model_name": "HBoxModel",
          "model_module_version": "1.5.0",
          "state": {
            "_dom_classes": [],
            "_model_module": "@jupyter-widgets/controls",
            "_model_module_version": "1.5.0",
            "_model_name": "HBoxModel",
            "_view_count": null,
            "_view_module": "@jupyter-widgets/controls",
            "_view_module_version": "1.5.0",
            "_view_name": "HBoxView",
            "box_style": "",
            "children": [
              "IPY_MODEL_1bec21b123924864ab3796d8a3952833",
              "IPY_MODEL_a1e9c52c981346beb2ee424b80290811",
              "IPY_MODEL_cc9098431c3e43b58f29ae6defd93e2b"
            ],
            "layout": "IPY_MODEL_3a357dc9e19f4a0b90e22893e5409d41"
          }
        },
        "1bec21b123924864ab3796d8a3952833": {
          "model_module": "@jupyter-widgets/controls",
          "model_name": "HTMLModel",
          "model_module_version": "1.5.0",
          "state": {
            "_dom_classes": [],
            "_model_module": "@jupyter-widgets/controls",
            "_model_module_version": "1.5.0",
            "_model_name": "HTMLModel",
            "_view_count": null,
            "_view_module": "@jupyter-widgets/controls",
            "_view_module_version": "1.5.0",
            "_view_name": "HTMLView",
            "description": "",
            "description_tooltip": null,
            "layout": "IPY_MODEL_eceaf2d3e3484b1980d82a987b93cef8",
            "placeholder": "​",
            "style": "IPY_MODEL_2f476035413c4dfbb11cb6f11fd0690a",
            "value": "Saving the dataset (1/1 shards): 100%"
          }
        },
        "a1e9c52c981346beb2ee424b80290811": {
          "model_module": "@jupyter-widgets/controls",
          "model_name": "FloatProgressModel",
          "model_module_version": "1.5.0",
          "state": {
            "_dom_classes": [],
            "_model_module": "@jupyter-widgets/controls",
            "_model_module_version": "1.5.0",
            "_model_name": "FloatProgressModel",
            "_view_count": null,
            "_view_module": "@jupyter-widgets/controls",
            "_view_module_version": "1.5.0",
            "_view_name": "ProgressView",
            "bar_style": "success",
            "description": "",
            "description_tooltip": null,
            "layout": "IPY_MODEL_9395b5cd87c44cb38107095350dcd52a",
            "max": 2224,
            "min": 0,
            "orientation": "horizontal",
            "style": "IPY_MODEL_3708409f46de4d818ba9228e360eb78b",
            "value": 2224
          }
        },
        "cc9098431c3e43b58f29ae6defd93e2b": {
          "model_module": "@jupyter-widgets/controls",
          "model_name": "HTMLModel",
          "model_module_version": "1.5.0",
          "state": {
            "_dom_classes": [],
            "_model_module": "@jupyter-widgets/controls",
            "_model_module_version": "1.5.0",
            "_model_name": "HTMLModel",
            "_view_count": null,
            "_view_module": "@jupyter-widgets/controls",
            "_view_module_version": "1.5.0",
            "_view_name": "HTMLView",
            "description": "",
            "description_tooltip": null,
            "layout": "IPY_MODEL_e93e66d53d024b298c10adb1854b28cf",
            "placeholder": "​",
            "style": "IPY_MODEL_a9299f6a2ea84672b9bcd744c401418a",
            "value": " 2224/2224 [00:00&lt;00:00, 2928.33 examples/s]"
          }
        },
        "3a357dc9e19f4a0b90e22893e5409d41": {
          "model_module": "@jupyter-widgets/base",
          "model_name": "LayoutModel",
          "model_module_version": "1.2.0",
          "state": {
            "_model_module": "@jupyter-widgets/base",
            "_model_module_version": "1.2.0",
            "_model_name": "LayoutModel",
            "_view_count": null,
            "_view_module": "@jupyter-widgets/base",
            "_view_module_version": "1.2.0",
            "_view_name": "LayoutView",
            "align_content": null,
            "align_items": null,
            "align_self": null,
            "border": null,
            "bottom": null,
            "display": null,
            "flex": null,
            "flex_flow": null,
            "grid_area": null,
            "grid_auto_columns": null,
            "grid_auto_flow": null,
            "grid_auto_rows": null,
            "grid_column": null,
            "grid_gap": null,
            "grid_row": null,
            "grid_template_areas": null,
            "grid_template_columns": null,
            "grid_template_rows": null,
            "height": null,
            "justify_content": null,
            "justify_items": null,
            "left": null,
            "margin": null,
            "max_height": null,
            "max_width": null,
            "min_height": null,
            "min_width": null,
            "object_fit": null,
            "object_position": null,
            "order": null,
            "overflow": null,
            "overflow_x": null,
            "overflow_y": null,
            "padding": null,
            "right": null,
            "top": null,
            "visibility": null,
            "width": null
          }
        },
        "eceaf2d3e3484b1980d82a987b93cef8": {
          "model_module": "@jupyter-widgets/base",
          "model_name": "LayoutModel",
          "model_module_version": "1.2.0",
          "state": {
            "_model_module": "@jupyter-widgets/base",
            "_model_module_version": "1.2.0",
            "_model_name": "LayoutModel",
            "_view_count": null,
            "_view_module": "@jupyter-widgets/base",
            "_view_module_version": "1.2.0",
            "_view_name": "LayoutView",
            "align_content": null,
            "align_items": null,
            "align_self": null,
            "border": null,
            "bottom": null,
            "display": null,
            "flex": null,
            "flex_flow": null,
            "grid_area": null,
            "grid_auto_columns": null,
            "grid_auto_flow": null,
            "grid_auto_rows": null,
            "grid_column": null,
            "grid_gap": null,
            "grid_row": null,
            "grid_template_areas": null,
            "grid_template_columns": null,
            "grid_template_rows": null,
            "height": null,
            "justify_content": null,
            "justify_items": null,
            "left": null,
            "margin": null,
            "max_height": null,
            "max_width": null,
            "min_height": null,
            "min_width": null,
            "object_fit": null,
            "object_position": null,
            "order": null,
            "overflow": null,
            "overflow_x": null,
            "overflow_y": null,
            "padding": null,
            "right": null,
            "top": null,
            "visibility": null,
            "width": null
          }
        },
        "2f476035413c4dfbb11cb6f11fd0690a": {
          "model_module": "@jupyter-widgets/controls",
          "model_name": "DescriptionStyleModel",
          "model_module_version": "1.5.0",
          "state": {
            "_model_module": "@jupyter-widgets/controls",
            "_model_module_version": "1.5.0",
            "_model_name": "DescriptionStyleModel",
            "_view_count": null,
            "_view_module": "@jupyter-widgets/base",
            "_view_module_version": "1.2.0",
            "_view_name": "StyleView",
            "description_width": ""
          }
        },
        "9395b5cd87c44cb38107095350dcd52a": {
          "model_module": "@jupyter-widgets/base",
          "model_name": "LayoutModel",
          "model_module_version": "1.2.0",
          "state": {
            "_model_module": "@jupyter-widgets/base",
            "_model_module_version": "1.2.0",
            "_model_name": "LayoutModel",
            "_view_count": null,
            "_view_module": "@jupyter-widgets/base",
            "_view_module_version": "1.2.0",
            "_view_name": "LayoutView",
            "align_content": null,
            "align_items": null,
            "align_self": null,
            "border": null,
            "bottom": null,
            "display": null,
            "flex": null,
            "flex_flow": null,
            "grid_area": null,
            "grid_auto_columns": null,
            "grid_auto_flow": null,
            "grid_auto_rows": null,
            "grid_column": null,
            "grid_gap": null,
            "grid_row": null,
            "grid_template_areas": null,
            "grid_template_columns": null,
            "grid_template_rows": null,
            "height": null,
            "justify_content": null,
            "justify_items": null,
            "left": null,
            "margin": null,
            "max_height": null,
            "max_width": null,
            "min_height": null,
            "min_width": null,
            "object_fit": null,
            "object_position": null,
            "order": null,
            "overflow": null,
            "overflow_x": null,
            "overflow_y": null,
            "padding": null,
            "right": null,
            "top": null,
            "visibility": null,
            "width": null
          }
        },
        "3708409f46de4d818ba9228e360eb78b": {
          "model_module": "@jupyter-widgets/controls",
          "model_name": "ProgressStyleModel",
          "model_module_version": "1.5.0",
          "state": {
            "_model_module": "@jupyter-widgets/controls",
            "_model_module_version": "1.5.0",
            "_model_name": "ProgressStyleModel",
            "_view_count": null,
            "_view_module": "@jupyter-widgets/base",
            "_view_module_version": "1.2.0",
            "_view_name": "StyleView",
            "bar_color": null,
            "description_width": ""
          }
        },
        "e93e66d53d024b298c10adb1854b28cf": {
          "model_module": "@jupyter-widgets/base",
          "model_name": "LayoutModel",
          "model_module_version": "1.2.0",
          "state": {
            "_model_module": "@jupyter-widgets/base",
            "_model_module_version": "1.2.0",
            "_model_name": "LayoutModel",
            "_view_count": null,
            "_view_module": "@jupyter-widgets/base",
            "_view_module_version": "1.2.0",
            "_view_name": "LayoutView",
            "align_content": null,
            "align_items": null,
            "align_self": null,
            "border": null,
            "bottom": null,
            "display": null,
            "flex": null,
            "flex_flow": null,
            "grid_area": null,
            "grid_auto_columns": null,
            "grid_auto_flow": null,
            "grid_auto_rows": null,
            "grid_column": null,
            "grid_gap": null,
            "grid_row": null,
            "grid_template_areas": null,
            "grid_template_columns": null,
            "grid_template_rows": null,
            "height": null,
            "justify_content": null,
            "justify_items": null,
            "left": null,
            "margin": null,
            "max_height": null,
            "max_width": null,
            "min_height": null,
            "min_width": null,
            "object_fit": null,
            "object_position": null,
            "order": null,
            "overflow": null,
            "overflow_x": null,
            "overflow_y": null,
            "padding": null,
            "right": null,
            "top": null,
            "visibility": null,
            "width": null
          }
        },
        "a9299f6a2ea84672b9bcd744c401418a": {
          "model_module": "@jupyter-widgets/controls",
          "model_name": "DescriptionStyleModel",
          "model_module_version": "1.5.0",
          "state": {
            "_model_module": "@jupyter-widgets/controls",
            "_model_module_version": "1.5.0",
            "_model_name": "DescriptionStyleModel",
            "_view_count": null,
            "_view_module": "@jupyter-widgets/base",
            "_view_module_version": "1.2.0",
            "_view_name": "StyleView",
            "description_width": ""
          }
        },
        "0fa42dd1cba64bf18111e78092332755": {
          "model_module": "@jupyter-widgets/controls",
          "model_name": "HBoxModel",
          "model_module_version": "1.5.0",
          "state": {
            "_dom_classes": [],
            "_model_module": "@jupyter-widgets/controls",
            "_model_module_version": "1.5.0",
            "_model_name": "HBoxModel",
            "_view_count": null,
            "_view_module": "@jupyter-widgets/controls",
            "_view_module_version": "1.5.0",
            "_view_name": "HBoxView",
            "box_style": "",
            "children": [
              "IPY_MODEL_a61b09ac81a045b6b87ddb582be90dc4",
              "IPY_MODEL_d57272f0976146edbc30e194aab99e1a",
              "IPY_MODEL_aad69e42feca4c84b301ba45e5fe33c3"
            ],
            "layout": "IPY_MODEL_90510a726dfb46d39e6f0e5d7d59a469"
          }
        },
        "a61b09ac81a045b6b87ddb582be90dc4": {
          "model_module": "@jupyter-widgets/controls",
          "model_name": "HTMLModel",
          "model_module_version": "1.5.0",
          "state": {
            "_dom_classes": [],
            "_model_module": "@jupyter-widgets/controls",
            "_model_module_version": "1.5.0",
            "_model_name": "HTMLModel",
            "_view_count": null,
            "_view_module": "@jupyter-widgets/controls",
            "_view_module_version": "1.5.0",
            "_view_name": "HTMLView",
            "description": "",
            "description_tooltip": null,
            "layout": "IPY_MODEL_e1bc0dae7e8a40efb1088fdbc0828748",
            "placeholder": "​",
            "style": "IPY_MODEL_fa43be41edf64610b06b9e6c119597b1",
            "value": "adapter_config.json: 100%"
          }
        },
        "d57272f0976146edbc30e194aab99e1a": {
          "model_module": "@jupyter-widgets/controls",
          "model_name": "FloatProgressModel",
          "model_module_version": "1.5.0",
          "state": {
            "_dom_classes": [],
            "_model_module": "@jupyter-widgets/controls",
            "_model_module_version": "1.5.0",
            "_model_name": "FloatProgressModel",
            "_view_count": null,
            "_view_module": "@jupyter-widgets/controls",
            "_view_module_version": "1.5.0",
            "_view_name": "ProgressView",
            "bar_style": "success",
            "description": "",
            "description_tooltip": null,
            "layout": "IPY_MODEL_8fa11c0536ff41cd8a10c57fed0f8904",
            "max": 818,
            "min": 0,
            "orientation": "horizontal",
            "style": "IPY_MODEL_9742ba4cf2224228a8ac1a0033843e7d",
            "value": 818
          }
        },
        "aad69e42feca4c84b301ba45e5fe33c3": {
          "model_module": "@jupyter-widgets/controls",
          "model_name": "HTMLModel",
          "model_module_version": "1.5.0",
          "state": {
            "_dom_classes": [],
            "_model_module": "@jupyter-widgets/controls",
            "_model_module_version": "1.5.0",
            "_model_name": "HTMLModel",
            "_view_count": null,
            "_view_module": "@jupyter-widgets/controls",
            "_view_module_version": "1.5.0",
            "_view_name": "HTMLView",
            "description": "",
            "description_tooltip": null,
            "layout": "IPY_MODEL_1dae29ddca71413a8dc7ba05dc278881",
            "placeholder": "​",
            "style": "IPY_MODEL_a12b06254301433c907460dac54d1ba3",
            "value": " 818/818 [00:00&lt;00:00, 20.5kB/s]"
          }
        },
        "90510a726dfb46d39e6f0e5d7d59a469": {
          "model_module": "@jupyter-widgets/base",
          "model_name": "LayoutModel",
          "model_module_version": "1.2.0",
          "state": {
            "_model_module": "@jupyter-widgets/base",
            "_model_module_version": "1.2.0",
            "_model_name": "LayoutModel",
            "_view_count": null,
            "_view_module": "@jupyter-widgets/base",
            "_view_module_version": "1.2.0",
            "_view_name": "LayoutView",
            "align_content": null,
            "align_items": null,
            "align_self": null,
            "border": null,
            "bottom": null,
            "display": null,
            "flex": null,
            "flex_flow": null,
            "grid_area": null,
            "grid_auto_columns": null,
            "grid_auto_flow": null,
            "grid_auto_rows": null,
            "grid_column": null,
            "grid_gap": null,
            "grid_row": null,
            "grid_template_areas": null,
            "grid_template_columns": null,
            "grid_template_rows": null,
            "height": null,
            "justify_content": null,
            "justify_items": null,
            "left": null,
            "margin": null,
            "max_height": null,
            "max_width": null,
            "min_height": null,
            "min_width": null,
            "object_fit": null,
            "object_position": null,
            "order": null,
            "overflow": null,
            "overflow_x": null,
            "overflow_y": null,
            "padding": null,
            "right": null,
            "top": null,
            "visibility": null,
            "width": null
          }
        },
        "e1bc0dae7e8a40efb1088fdbc0828748": {
          "model_module": "@jupyter-widgets/base",
          "model_name": "LayoutModel",
          "model_module_version": "1.2.0",
          "state": {
            "_model_module": "@jupyter-widgets/base",
            "_model_module_version": "1.2.0",
            "_model_name": "LayoutModel",
            "_view_count": null,
            "_view_module": "@jupyter-widgets/base",
            "_view_module_version": "1.2.0",
            "_view_name": "LayoutView",
            "align_content": null,
            "align_items": null,
            "align_self": null,
            "border": null,
            "bottom": null,
            "display": null,
            "flex": null,
            "flex_flow": null,
            "grid_area": null,
            "grid_auto_columns": null,
            "grid_auto_flow": null,
            "grid_auto_rows": null,
            "grid_column": null,
            "grid_gap": null,
            "grid_row": null,
            "grid_template_areas": null,
            "grid_template_columns": null,
            "grid_template_rows": null,
            "height": null,
            "justify_content": null,
            "justify_items": null,
            "left": null,
            "margin": null,
            "max_height": null,
            "max_width": null,
            "min_height": null,
            "min_width": null,
            "object_fit": null,
            "object_position": null,
            "order": null,
            "overflow": null,
            "overflow_x": null,
            "overflow_y": null,
            "padding": null,
            "right": null,
            "top": null,
            "visibility": null,
            "width": null
          }
        },
        "fa43be41edf64610b06b9e6c119597b1": {
          "model_module": "@jupyter-widgets/controls",
          "model_name": "DescriptionStyleModel",
          "model_module_version": "1.5.0",
          "state": {
            "_model_module": "@jupyter-widgets/controls",
            "_model_module_version": "1.5.0",
            "_model_name": "DescriptionStyleModel",
            "_view_count": null,
            "_view_module": "@jupyter-widgets/base",
            "_view_module_version": "1.2.0",
            "_view_name": "StyleView",
            "description_width": ""
          }
        },
        "8fa11c0536ff41cd8a10c57fed0f8904": {
          "model_module": "@jupyter-widgets/base",
          "model_name": "LayoutModel",
          "model_module_version": "1.2.0",
          "state": {
            "_model_module": "@jupyter-widgets/base",
            "_model_module_version": "1.2.0",
            "_model_name": "LayoutModel",
            "_view_count": null,
            "_view_module": "@jupyter-widgets/base",
            "_view_module_version": "1.2.0",
            "_view_name": "LayoutView",
            "align_content": null,
            "align_items": null,
            "align_self": null,
            "border": null,
            "bottom": null,
            "display": null,
            "flex": null,
            "flex_flow": null,
            "grid_area": null,
            "grid_auto_columns": null,
            "grid_auto_flow": null,
            "grid_auto_rows": null,
            "grid_column": null,
            "grid_gap": null,
            "grid_row": null,
            "grid_template_areas": null,
            "grid_template_columns": null,
            "grid_template_rows": null,
            "height": null,
            "justify_content": null,
            "justify_items": null,
            "left": null,
            "margin": null,
            "max_height": null,
            "max_width": null,
            "min_height": null,
            "min_width": null,
            "object_fit": null,
            "object_position": null,
            "order": null,
            "overflow": null,
            "overflow_x": null,
            "overflow_y": null,
            "padding": null,
            "right": null,
            "top": null,
            "visibility": null,
            "width": null
          }
        },
        "9742ba4cf2224228a8ac1a0033843e7d": {
          "model_module": "@jupyter-widgets/controls",
          "model_name": "ProgressStyleModel",
          "model_module_version": "1.5.0",
          "state": {
            "_model_module": "@jupyter-widgets/controls",
            "_model_module_version": "1.5.0",
            "_model_name": "ProgressStyleModel",
            "_view_count": null,
            "_view_module": "@jupyter-widgets/base",
            "_view_module_version": "1.2.0",
            "_view_name": "StyleView",
            "bar_color": null,
            "description_width": ""
          }
        },
        "1dae29ddca71413a8dc7ba05dc278881": {
          "model_module": "@jupyter-widgets/base",
          "model_name": "LayoutModel",
          "model_module_version": "1.2.0",
          "state": {
            "_model_module": "@jupyter-widgets/base",
            "_model_module_version": "1.2.0",
            "_model_name": "LayoutModel",
            "_view_count": null,
            "_view_module": "@jupyter-widgets/base",
            "_view_module_version": "1.2.0",
            "_view_name": "LayoutView",
            "align_content": null,
            "align_items": null,
            "align_self": null,
            "border": null,
            "bottom": null,
            "display": null,
            "flex": null,
            "flex_flow": null,
            "grid_area": null,
            "grid_auto_columns": null,
            "grid_auto_flow": null,
            "grid_auto_rows": null,
            "grid_column": null,
            "grid_gap": null,
            "grid_row": null,
            "grid_template_areas": null,
            "grid_template_columns": null,
            "grid_template_rows": null,
            "height": null,
            "justify_content": null,
            "justify_items": null,
            "left": null,
            "margin": null,
            "max_height": null,
            "max_width": null,
            "min_height": null,
            "min_width": null,
            "object_fit": null,
            "object_position": null,
            "order": null,
            "overflow": null,
            "overflow_x": null,
            "overflow_y": null,
            "padding": null,
            "right": null,
            "top": null,
            "visibility": null,
            "width": null
          }
        },
        "a12b06254301433c907460dac54d1ba3": {
          "model_module": "@jupyter-widgets/controls",
          "model_name": "DescriptionStyleModel",
          "model_module_version": "1.5.0",
          "state": {
            "_model_module": "@jupyter-widgets/controls",
            "_model_module_version": "1.5.0",
            "_model_name": "DescriptionStyleModel",
            "_view_count": null,
            "_view_module": "@jupyter-widgets/base",
            "_view_module_version": "1.2.0",
            "_view_name": "StyleView",
            "description_width": ""
          }
        },
        "6c6f0060d07441fa9f3d034d2678d671": {
          "model_module": "@jupyter-widgets/controls",
          "model_name": "HBoxModel",
          "model_module_version": "1.5.0",
          "state": {
            "_dom_classes": [],
            "_model_module": "@jupyter-widgets/controls",
            "_model_module_version": "1.5.0",
            "_model_name": "HBoxModel",
            "_view_count": null,
            "_view_module": "@jupyter-widgets/controls",
            "_view_module_version": "1.5.0",
            "_view_name": "HBoxView",
            "box_style": "",
            "children": [
              "IPY_MODEL_e4e705b3a1f54dfeb7c4dc766596f351",
              "IPY_MODEL_7c7ec79abaff4b19b762313ba6bf749c",
              "IPY_MODEL_b1b94c722b204aa39f8c0949b8a1f075"
            ],
            "layout": "IPY_MODEL_04108701f0db47128e6c5f09f300db1e"
          }
        },
        "e4e705b3a1f54dfeb7c4dc766596f351": {
          "model_module": "@jupyter-widgets/controls",
          "model_name": "HTMLModel",
          "model_module_version": "1.5.0",
          "state": {
            "_dom_classes": [],
            "_model_module": "@jupyter-widgets/controls",
            "_model_module_version": "1.5.0",
            "_model_name": "HTMLModel",
            "_view_count": null,
            "_view_module": "@jupyter-widgets/controls",
            "_view_module_version": "1.5.0",
            "_view_name": "HTMLView",
            "description": "",
            "description_tooltip": null,
            "layout": "IPY_MODEL_5da895db92fb4de6a98fc150a1752810",
            "placeholder": "​",
            "style": "IPY_MODEL_135180517b8440e9a421ef5f49ba1570",
            "value": "adapter_model.safetensors: 100%"
          }
        },
        "7c7ec79abaff4b19b762313ba6bf749c": {
          "model_module": "@jupyter-widgets/controls",
          "model_name": "FloatProgressModel",
          "model_module_version": "1.5.0",
          "state": {
            "_dom_classes": [],
            "_model_module": "@jupyter-widgets/controls",
            "_model_module_version": "1.5.0",
            "_model_name": "FloatProgressModel",
            "_view_count": null,
            "_view_module": "@jupyter-widgets/controls",
            "_view_module_version": "1.5.0",
            "_view_name": "ProgressView",
            "bar_style": "success",
            "description": "",
            "description_tooltip": null,
            "layout": "IPY_MODEL_8211cfe5ca544643ad28b29431959a7c",
            "max": 1579776,
            "min": 0,
            "orientation": "horizontal",
            "style": "IPY_MODEL_3aa46ac307eb48d18c7757a25e0fbd1e",
            "value": 1579776
          }
        },
        "b1b94c722b204aa39f8c0949b8a1f075": {
          "model_module": "@jupyter-widgets/controls",
          "model_name": "HTMLModel",
          "model_module_version": "1.5.0",
          "state": {
            "_dom_classes": [],
            "_model_module": "@jupyter-widgets/controls",
            "_model_module_version": "1.5.0",
            "_model_name": "HTMLModel",
            "_view_count": null,
            "_view_module": "@jupyter-widgets/controls",
            "_view_module_version": "1.5.0",
            "_view_name": "HTMLView",
            "description": "",
            "description_tooltip": null,
            "layout": "IPY_MODEL_6403c0c08c4d4eb2b8a8471b914a9212",
            "placeholder": "​",
            "style": "IPY_MODEL_1374e57c50b441b98c7c7592e10db503",
            "value": " 1.58M/1.58M [00:00&lt;00:00, 5.54MB/s]"
          }
        },
        "04108701f0db47128e6c5f09f300db1e": {
          "model_module": "@jupyter-widgets/base",
          "model_name": "LayoutModel",
          "model_module_version": "1.2.0",
          "state": {
            "_model_module": "@jupyter-widgets/base",
            "_model_module_version": "1.2.0",
            "_model_name": "LayoutModel",
            "_view_count": null,
            "_view_module": "@jupyter-widgets/base",
            "_view_module_version": "1.2.0",
            "_view_name": "LayoutView",
            "align_content": null,
            "align_items": null,
            "align_self": null,
            "border": null,
            "bottom": null,
            "display": null,
            "flex": null,
            "flex_flow": null,
            "grid_area": null,
            "grid_auto_columns": null,
            "grid_auto_flow": null,
            "grid_auto_rows": null,
            "grid_column": null,
            "grid_gap": null,
            "grid_row": null,
            "grid_template_areas": null,
            "grid_template_columns": null,
            "grid_template_rows": null,
            "height": null,
            "justify_content": null,
            "justify_items": null,
            "left": null,
            "margin": null,
            "max_height": null,
            "max_width": null,
            "min_height": null,
            "min_width": null,
            "object_fit": null,
            "object_position": null,
            "order": null,
            "overflow": null,
            "overflow_x": null,
            "overflow_y": null,
            "padding": null,
            "right": null,
            "top": null,
            "visibility": null,
            "width": null
          }
        },
        "5da895db92fb4de6a98fc150a1752810": {
          "model_module": "@jupyter-widgets/base",
          "model_name": "LayoutModel",
          "model_module_version": "1.2.0",
          "state": {
            "_model_module": "@jupyter-widgets/base",
            "_model_module_version": "1.2.0",
            "_model_name": "LayoutModel",
            "_view_count": null,
            "_view_module": "@jupyter-widgets/base",
            "_view_module_version": "1.2.0",
            "_view_name": "LayoutView",
            "align_content": null,
            "align_items": null,
            "align_self": null,
            "border": null,
            "bottom": null,
            "display": null,
            "flex": null,
            "flex_flow": null,
            "grid_area": null,
            "grid_auto_columns": null,
            "grid_auto_flow": null,
            "grid_auto_rows": null,
            "grid_column": null,
            "grid_gap": null,
            "grid_row": null,
            "grid_template_areas": null,
            "grid_template_columns": null,
            "grid_template_rows": null,
            "height": null,
            "justify_content": null,
            "justify_items": null,
            "left": null,
            "margin": null,
            "max_height": null,
            "max_width": null,
            "min_height": null,
            "min_width": null,
            "object_fit": null,
            "object_position": null,
            "order": null,
            "overflow": null,
            "overflow_x": null,
            "overflow_y": null,
            "padding": null,
            "right": null,
            "top": null,
            "visibility": null,
            "width": null
          }
        },
        "135180517b8440e9a421ef5f49ba1570": {
          "model_module": "@jupyter-widgets/controls",
          "model_name": "DescriptionStyleModel",
          "model_module_version": "1.5.0",
          "state": {
            "_model_module": "@jupyter-widgets/controls",
            "_model_module_version": "1.5.0",
            "_model_name": "DescriptionStyleModel",
            "_view_count": null,
            "_view_module": "@jupyter-widgets/base",
            "_view_module_version": "1.2.0",
            "_view_name": "StyleView",
            "description_width": ""
          }
        },
        "8211cfe5ca544643ad28b29431959a7c": {
          "model_module": "@jupyter-widgets/base",
          "model_name": "LayoutModel",
          "model_module_version": "1.2.0",
          "state": {
            "_model_module": "@jupyter-widgets/base",
            "_model_module_version": "1.2.0",
            "_model_name": "LayoutModel",
            "_view_count": null,
            "_view_module": "@jupyter-widgets/base",
            "_view_module_version": "1.2.0",
            "_view_name": "LayoutView",
            "align_content": null,
            "align_items": null,
            "align_self": null,
            "border": null,
            "bottom": null,
            "display": null,
            "flex": null,
            "flex_flow": null,
            "grid_area": null,
            "grid_auto_columns": null,
            "grid_auto_flow": null,
            "grid_auto_rows": null,
            "grid_column": null,
            "grid_gap": null,
            "grid_row": null,
            "grid_template_areas": null,
            "grid_template_columns": null,
            "grid_template_rows": null,
            "height": null,
            "justify_content": null,
            "justify_items": null,
            "left": null,
            "margin": null,
            "max_height": null,
            "max_width": null,
            "min_height": null,
            "min_width": null,
            "object_fit": null,
            "object_position": null,
            "order": null,
            "overflow": null,
            "overflow_x": null,
            "overflow_y": null,
            "padding": null,
            "right": null,
            "top": null,
            "visibility": null,
            "width": null
          }
        },
        "3aa46ac307eb48d18c7757a25e0fbd1e": {
          "model_module": "@jupyter-widgets/controls",
          "model_name": "ProgressStyleModel",
          "model_module_version": "1.5.0",
          "state": {
            "_model_module": "@jupyter-widgets/controls",
            "_model_module_version": "1.5.0",
            "_model_name": "ProgressStyleModel",
            "_view_count": null,
            "_view_module": "@jupyter-widgets/base",
            "_view_module_version": "1.2.0",
            "_view_name": "StyleView",
            "bar_color": null,
            "description_width": ""
          }
        },
        "6403c0c08c4d4eb2b8a8471b914a9212": {
          "model_module": "@jupyter-widgets/base",
          "model_name": "LayoutModel",
          "model_module_version": "1.2.0",
          "state": {
            "_model_module": "@jupyter-widgets/base",
            "_model_module_version": "1.2.0",
            "_model_name": "LayoutModel",
            "_view_count": null,
            "_view_module": "@jupyter-widgets/base",
            "_view_module_version": "1.2.0",
            "_view_name": "LayoutView",
            "align_content": null,
            "align_items": null,
            "align_self": null,
            "border": null,
            "bottom": null,
            "display": null,
            "flex": null,
            "flex_flow": null,
            "grid_area": null,
            "grid_auto_columns": null,
            "grid_auto_flow": null,
            "grid_auto_rows": null,
            "grid_column": null,
            "grid_gap": null,
            "grid_row": null,
            "grid_template_areas": null,
            "grid_template_columns": null,
            "grid_template_rows": null,
            "height": null,
            "justify_content": null,
            "justify_items": null,
            "left": null,
            "margin": null,
            "max_height": null,
            "max_width": null,
            "min_height": null,
            "min_width": null,
            "object_fit": null,
            "object_position": null,
            "order": null,
            "overflow": null,
            "overflow_x": null,
            "overflow_y": null,
            "padding": null,
            "right": null,
            "top": null,
            "visibility": null,
            "width": null
          }
        },
        "1374e57c50b441b98c7c7592e10db503": {
          "model_module": "@jupyter-widgets/controls",
          "model_name": "DescriptionStyleModel",
          "model_module_version": "1.5.0",
          "state": {
            "_model_module": "@jupyter-widgets/controls",
            "_model_module_version": "1.5.0",
            "_model_name": "DescriptionStyleModel",
            "_view_count": null,
            "_view_module": "@jupyter-widgets/base",
            "_view_module_version": "1.2.0",
            "_view_name": "StyleView",
            "description_width": ""
          }
        }
      }
    }
  },
  "nbformat": 4,
  "nbformat_minor": 0
}